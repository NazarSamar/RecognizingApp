{
 "cells": [
  {
   "cell_type": "code",
   "execution_count": 10,
   "id": "0f7664bd",
   "metadata": {},
   "outputs": [],
   "source": [
    "import pandas as pd    \n",
    "test = pd.read_csv(\"./test_labels.csv\")\n",
    "train = pd.read_csv(\"./train_labels.csv\")"
   ]
  },
  {
   "cell_type": "code",
   "execution_count": 11,
   "id": "19f938bd",
   "metadata": {},
   "outputs": [],
   "source": [
    "from keras.models import Sequential\n",
    "from keras.layers import Convolution2D, MaxPooling2D, Dropout, Flatten, Dense,Lambda\n",
    "from keras.utils import plot_model\n",
    "import tensorflow as tf\n",
    "import tensorflow.keras as keras\n",
    "from tensorflow.keras.preprocessing.image import ImageDataGenerator\n"
   ]
  },
  {
   "cell_type": "code",
   "execution_count": 12,
   "id": "ac75cf3c",
   "metadata": {},
   "outputs": [],
   "source": [
    "classes = ['civilian aircraft','civilian car','military aircraft', 'military helicopter','military tank','military truck']"
   ]
  },
  {
   "cell_type": "code",
   "execution_count": 13,
   "id": "d3adb63a",
   "metadata": {},
   "outputs": [],
   "source": [
    "image_rows, image_cols = 256, 256"
   ]
  },
  {
   "cell_type": "code",
   "execution_count": 5,
   "id": "52266a84",
   "metadata": {},
   "outputs": [],
   "source": [
    "model = keras.models.Sequential([\n",
    "    keras.layers.Conv2D(32, (3, 3), activation='relu', input_shape = [image_rows, image_cols,3]),\n",
    "    keras.layers.MaxPooling2D(),\n",
    "    keras.layers.Conv2D(64, (2, 2), activation='relu'),\n",
    "    keras.layers.MaxPooling2D(),\n",
    "    keras.layers.Conv2D(64, (2, 2), activation='relu'),\n",
    "    keras.layers.Flatten(),\n",
    "    keras.layers.Dense(100, activation='relu'),\n",
    "    keras.layers.Dense(len(classes), activation ='softmax')\n",
    "])\n",
    "model.compile(optimizer='adam',\n",
    "             loss = 'binary_crossentropy',\n",
    "             metrics=['accuracy'])"
   ]
  },
  {
   "cell_type": "code",
   "execution_count": 10,
   "id": "9cbcbafb",
   "metadata": {},
   "outputs": [],
   "source": [
    "train_dir=\"./Images\"\n",
    "train_csv_path=\"./train_labels.csv\"\n",
    "train_df=train\n",
    "\n",
    "test_csv_path=\"./test_labels.csv\"\n",
    "test_df=test\n",
    "test_dir=\"./Images\"\n",
    "\n",
    "batch_size=32\n",
    "\n",
    "img_size=(image_rows, image_cols)\n",
    "\n",
    "gen=ImageDataGenerator(rescale=1/255, validation_split = 0.25)\n"
   ]
  },
  {
   "cell_type": "code",
   "execution_count": 11,
   "id": "3b2b1ab9",
   "metadata": {},
   "outputs": [
    {
     "name": "stdout",
     "output_type": "stream",
     "text": [
      "Found 8037 validated image filenames belonging to 6 classes.\n"
     ]
    },
    {
     "name": "stderr",
     "output_type": "stream",
     "text": [
      "E:\\Anaconda\\lib\\site-packages\\keras\\preprocessing\\image.py:989: UserWarning: Found 3 invalid image filename(s) in x_col=\"filename\". These filename(s) will be ignored.\n",
      "  warnings.warn('Found {} invalid image filename(s) in x_col=\"{}\". '\n"
     ]
    }
   ],
   "source": [
    "train_gen=gen.flow_from_dataframe(train_df, directory=train_dir, x_col='filename', y_col='class', shuffle=True,\n",
    "                                 target_size=img_size, class_mode='categorical', batch_size=batch_size, subset='training')"
   ]
  },
  {
   "cell_type": "code",
   "execution_count": 12,
   "id": "8d11dedc",
   "metadata": {},
   "outputs": [
    {
     "name": "stdout",
     "output_type": "stream",
     "text": [
      "Found 2678 validated image filenames belonging to 6 classes.\n"
     ]
    },
    {
     "name": "stderr",
     "output_type": "stream",
     "text": [
      "E:\\Anaconda\\lib\\site-packages\\keras\\preprocessing\\image.py:989: UserWarning: Found 3 invalid image filename(s) in x_col=\"filename\". These filename(s) will be ignored.\n",
      "  warnings.warn('Found {} invalid image filename(s) in x_col=\"{}\". '\n"
     ]
    }
   ],
   "source": [
    "valid_gen=gen.flow_from_dataframe(train_df, directory=train_dir, x_col='filename', y_col='class', shuffle=True,\n",
    "                                 target_size=img_size, class_mode='categorical', batch_size=batch_size, subset='validation')\n"
   ]
  },
  {
   "cell_type": "code",
   "execution_count": 13,
   "id": "fa9a33f7",
   "metadata": {},
   "outputs": [
    {
     "name": "stdout",
     "output_type": "stream",
     "text": [
      "Found 718 validated image filenames belonging to 6 classes.\n"
     ]
    }
   ],
   "source": [
    "test_gen=gen.flow_from_dataframe(test_df, directory=test_dir, x_col='filename', y_col='class', shuffle=False,\n",
    "                                 target_size=img_size, class_mode='categorical', batch_size=batch_size)      "
   ]
  },
  {
   "cell_type": "code",
   "execution_count": 14,
   "id": "cb253874",
   "metadata": {},
   "outputs": [
    {
     "name": "stderr",
     "output_type": "stream",
     "text": [
      "C:\\Users\\nazar\\AppData\\Local\\Temp\\ipykernel_11472\\4126350258.py:7: UserWarning: `Model.fit_generator` is deprecated and will be removed in a future version. Please use `Model.fit`, which supports generators.\n",
      "  model.fit_generator(generator=train_gen,\n"
     ]
    },
    {
     "name": "stdout",
     "output_type": "stream",
     "text": [
      "Epoch 1/30\n",
      "251/251 [==============================] - 259s 1s/step - loss: 0.3463 - accuracy: 0.5810 - val_loss: 0.3145 - val_accuracy: 0.6329\n",
      "Epoch 2/30\n",
      "251/251 [==============================] - 286s 1s/step - loss: 0.1576 - accuracy: 0.8359 - val_loss: 0.2964 - val_accuracy: 0.7391\n",
      "Epoch 3/30\n",
      "251/251 [==============================] - 290s 1s/step - loss: 0.0958 - accuracy: 0.9197 - val_loss: 0.2747 - val_accuracy: 0.7643\n",
      "Epoch 4/30\n",
      "251/251 [==============================] - 294s 1s/step - loss: 0.0690 - accuracy: 0.9424 - val_loss: 0.3031 - val_accuracy: 0.7605\n",
      "Epoch 5/30\n",
      "251/251 [==============================] - 270s 1s/step - loss: 0.0549 - accuracy: 0.9508 - val_loss: 0.3350 - val_accuracy: 0.7545\n",
      "Epoch 6/30\n",
      "251/251 [==============================] - 275s 1s/step - loss: 0.0506 - accuracy: 0.9518 - val_loss: 0.3188 - val_accuracy: 0.7564\n",
      "Epoch 7/30\n",
      "251/251 [==============================] - 292s 1s/step - loss: 0.0433 - accuracy: 0.9550 - val_loss: 0.3090 - val_accuracy: 0.7590\n",
      "Epoch 8/30\n",
      "251/251 [==============================] - 308s 1s/step - loss: 0.0385 - accuracy: 0.9589 - val_loss: 0.3240 - val_accuracy: 0.7733\n",
      "Epoch 9/30\n",
      "251/251 [==============================] - 304s 1s/step - loss: 0.0348 - accuracy: 0.9600 - val_loss: 0.3256 - val_accuracy: 0.7647\n",
      "Epoch 10/30\n",
      "251/251 [==============================] - 267s 1s/step - loss: 0.0327 - accuracy: 0.9603 - val_loss: 0.3961 - val_accuracy: 0.7700\n",
      "Epoch 11/30\n",
      "251/251 [==============================] - 288s 1s/step - loss: 0.0317 - accuracy: 0.9616 - val_loss: 0.3630 - val_accuracy: 0.7639\n",
      "Epoch 12/30\n",
      "251/251 [==============================] - 325s 1s/step - loss: 0.0286 - accuracy: 0.9635 - val_loss: 0.3618 - val_accuracy: 0.7639\n",
      "Epoch 13/30\n",
      "251/251 [==============================] - 311s 1s/step - loss: 0.0304 - accuracy: 0.9621 - val_loss: 0.3692 - val_accuracy: 0.7700\n",
      "Epoch 14/30\n",
      "251/251 [==============================] - 313s 1s/step - loss: 0.0274 - accuracy: 0.9629 - val_loss: 0.3888 - val_accuracy: 0.7688\n",
      "Epoch 15/30\n",
      "251/251 [==============================] - 284s 1s/step - loss: 0.0255 - accuracy: 0.9654 - val_loss: 0.3403 - val_accuracy: 0.7651\n",
      "Epoch 16/30\n",
      "251/251 [==============================] - 266s 1s/step - loss: 0.0268 - accuracy: 0.9644 - val_loss: 0.3526 - val_accuracy: 0.7718\n",
      "Epoch 17/30\n",
      "251/251 [==============================] - 266s 1s/step - loss: 0.0250 - accuracy: 0.9651 - val_loss: 0.3954 - val_accuracy: 0.7575\n",
      "Epoch 18/30\n",
      "251/251 [==============================] - 267s 1s/step - loss: 0.0248 - accuracy: 0.9659 - val_loss: 0.3676 - val_accuracy: 0.7654\n",
      "Epoch 19/30\n",
      "251/251 [==============================] - 282s 1s/step - loss: 0.0236 - accuracy: 0.9660 - val_loss: 0.3740 - val_accuracy: 0.7590\n",
      "Epoch 20/30\n",
      "251/251 [==============================] - 302s 1s/step - loss: 0.0225 - accuracy: 0.9685 - val_loss: 0.4317 - val_accuracy: 0.7654\n",
      "Epoch 21/30\n",
      "251/251 [==============================] - 302s 1s/step - loss: 0.0212 - accuracy: 0.9673 - val_loss: 0.4259 - val_accuracy: 0.7647\n",
      "Epoch 22/30\n",
      "251/251 [==============================] - 304s 1s/step - loss: 0.0225 - accuracy: 0.9661 - val_loss: 0.4490 - val_accuracy: 0.7579\n",
      "Epoch 23/30\n",
      "251/251 [==============================] - 300s 1s/step - loss: 0.0256 - accuracy: 0.9650 - val_loss: 0.4259 - val_accuracy: 0.7500\n",
      "Epoch 24/30\n",
      "251/251 [==============================] - 292s 1s/step - loss: 0.0235 - accuracy: 0.9674 - val_loss: 0.4365 - val_accuracy: 0.7504\n",
      "Epoch 25/30\n",
      "251/251 [==============================] - 299s 1s/step - loss: 0.0231 - accuracy: 0.9685 - val_loss: 0.4122 - val_accuracy: 0.7564\n",
      "Epoch 26/30\n",
      "251/251 [==============================] - 311s 1s/step - loss: 0.0213 - accuracy: 0.9679 - val_loss: 0.4437 - val_accuracy: 0.7594\n",
      "Epoch 27/30\n",
      "251/251 [==============================] - 299s 1s/step - loss: 0.0202 - accuracy: 0.9701 - val_loss: 0.4326 - val_accuracy: 0.7583\n",
      "Epoch 28/30\n",
      "251/251 [==============================] - 302s 1s/step - loss: 0.0220 - accuracy: 0.9670 - val_loss: 0.4721 - val_accuracy: 0.7572\n",
      "Epoch 29/30\n",
      "251/251 [==============================] - 272s 1s/step - loss: 0.0198 - accuracy: 0.9688 - val_loss: 0.4213 - val_accuracy: 0.7628\n",
      "Epoch 30/30\n",
      "251/251 [==============================] - 272s 1s/step - loss: 0.0204 - accuracy: 0.9681 - val_loss: 0.4903 - val_accuracy: 0.7617\n"
     ]
    },
    {
     "data": {
      "text/plain": [
       "<keras.callbacks.History at 0x1c27b072ee0>"
      ]
     },
     "execution_count": 14,
     "metadata": {},
     "output_type": "execute_result"
    }
   ],
   "source": [
    "STEP_SIZE_TRAIN=train_gen.n//train_gen.batch_size\n",
    "STEP_SIZE_VALID=valid_gen.n//valid_gen.batch_size\n",
    "STEP_SIZE_TEST=test_gen.n//test_gen.batch_size\n",
    "\n",
    "\n",
    "\n",
    "model.fit_generator(generator=train_gen,\n",
    "                    steps_per_epoch=STEP_SIZE_TRAIN,\n",
    "                    validation_data=valid_gen,\n",
    "                    validation_steps=STEP_SIZE_VALID,\n",
    "                    epochs=30\n",
    ")"
   ]
  },
  {
   "cell_type": "code",
   "execution_count": 15,
   "id": "0796e39b",
   "metadata": {},
   "outputs": [
    {
     "name": "stdout",
     "output_type": "stream",
     "text": [
      "23/23 [==============================] - 7s 296ms/step - loss: 0.1777 - accuracy: 0.9067\n",
      "90.66852331161499\n"
     ]
    }
   ],
   "source": [
    "acc=model.evaluate(test_gen)[1]* 100\n",
    "print (acc)"
   ]
  },
  {
   "cell_type": "code",
   "execution_count": 16,
   "id": "3217bfc6",
   "metadata": {},
   "outputs": [
    {
     "name": "stderr",
     "output_type": "stream",
     "text": [
      "C:\\Users\\nazar\\AppData\\Local\\Temp\\ipykernel_11472\\2212924209.py:1: UserWarning: `Model.evaluate_generator` is deprecated and will be removed in a future version. Please use `Model.evaluate`, which supports generators.\n",
      "  model.evaluate_generator(generator=valid_gen,\n"
     ]
    },
    {
     "data": {
      "text/plain": [
       "[0.5099822878837585, 0.75]"
      ]
     },
     "execution_count": 16,
     "metadata": {},
     "output_type": "execute_result"
    }
   ],
   "source": [
    "model.evaluate_generator(generator=valid_gen,\n",
    "steps=STEP_SIZE_TEST)"
   ]
  },
  {
   "cell_type": "code",
   "execution_count": 19,
   "id": "de75a27d",
   "metadata": {},
   "outputs": [
    {
     "name": "stderr",
     "output_type": "stream",
     "text": [
      "C:\\Users\\nazar\\AppData\\Local\\Temp\\ipykernel_11472\\4150660490.py:2: UserWarning: `Model.predict_generator` is deprecated and will be removed in a future version. Please use `Model.predict`, which supports generators.\n",
      "  pred=model.predict_generator(test_gen,\n"
     ]
    },
    {
     "name": "stdout",
     "output_type": "stream",
     "text": [
      "22/22 [==============================] - 7s 292ms/step\n"
     ]
    }
   ],
   "source": [
    "test_gen.reset()\n",
    "pred=model.predict_generator(test_gen,\n",
    "steps=STEP_SIZE_TEST,\n",
    "verbose=1)"
   ]
  },
  {
   "cell_type": "code",
   "execution_count": 23,
   "id": "bf24f2bf",
   "metadata": {},
   "outputs": [],
   "source": [
    "import numpy as np\n",
    "predicted_class_indices=np.argmax(pred,axis=1)"
   ]
  },
  {
   "cell_type": "code",
   "execution_count": 24,
   "id": "7b2ae008",
   "metadata": {},
   "outputs": [],
   "source": [
    "model.save('military.h5')"
   ]
  },
  {
   "cell_type": "code",
   "execution_count": 25,
   "id": "a9a6ac60",
   "metadata": {},
   "outputs": [
    {
     "name": "stdout",
     "output_type": "stream",
     "text": [
      "84/84 [==============================] - 38s 445ms/step - loss: 0.4903 - accuracy: 0.7621\n",
      "Loss:  0.49030059576034546\n",
      "Accuracy:  0.762135922908783\n"
     ]
    }
   ],
   "source": [
    "loss, accuracy = model.evaluate(valid_gen)\n",
    "print(\"Loss: \", loss)\n",
    "print(\"Accuracy: \", accuracy)"
   ]
  },
  {
   "cell_type": "code",
   "execution_count": 16,
   "id": "2c326cb3",
   "metadata": {},
   "outputs": [],
   "source": [
    "model = tf.keras.models.load_model('military.h5')"
   ]
  },
  {
   "cell_type": "code",
   "execution_count": 28,
   "id": "167d134b",
   "metadata": {},
   "outputs": [
    {
     "name": "stderr",
     "output_type": "stream",
     "text": [
      "C:\\Users\\nazar\\AppData\\Local\\Temp\\ipykernel_11472\\2741743327.py:1: UserWarning: `Model.predict_generator` is deprecated and will be removed in a future version. Please use `Model.predict`, which supports generators.\n",
      "  pred=model.predict_generator(test_gen,\n"
     ]
    },
    {
     "name": "stdout",
     "output_type": "stream",
     "text": [
      "22/22 [==============================] - 7s 288ms/step\n"
     ]
    }
   ],
   "source": [
    "pred=model.predict_generator(test_gen,\n",
    "steps=test_gen.n//test_gen.batch_size,\n",
    "verbose=1)"
   ]
  },
  {
   "cell_type": "code",
   "execution_count": 26,
   "id": "4a30fbc5",
   "metadata": {},
   "outputs": [],
   "source": [
    "import numpy as np"
   ]
  },
  {
   "cell_type": "code",
   "execution_count": 3,
   "id": "99a1739c",
   "metadata": {},
   "outputs": [
    {
     "ename": "NameError",
     "evalue": "name 'pred' is not defined",
     "output_type": "error",
     "traceback": [
      "\u001b[1;31m---------------------------------------------------------------------------\u001b[0m",
      "\u001b[1;31mNameError\u001b[0m                                 Traceback (most recent call last)",
      "\u001b[1;32m~\\AppData\\Local\\Temp\\ipykernel_19560\\1540736169.py\u001b[0m in \u001b[0;36m<module>\u001b[1;34m\u001b[0m\n\u001b[1;32m----> 1\u001b[1;33m \u001b[0mpredicted_class_indices\u001b[0m\u001b[1;33m=\u001b[0m\u001b[0mnp\u001b[0m\u001b[1;33m.\u001b[0m\u001b[0margmax\u001b[0m\u001b[1;33m(\u001b[0m\u001b[0mpred\u001b[0m\u001b[1;33m,\u001b[0m\u001b[0maxis\u001b[0m\u001b[1;33m=\u001b[0m\u001b[1;36m1\u001b[0m\u001b[1;33m)\u001b[0m\u001b[1;33m\u001b[0m\u001b[1;33m\u001b[0m\u001b[0m\n\u001b[0m\u001b[0;32m      2\u001b[0m \u001b[0mlabels\u001b[0m \u001b[1;33m=\u001b[0m \u001b[1;33m(\u001b[0m\u001b[0mtest_gen\u001b[0m\u001b[1;33m.\u001b[0m\u001b[0mclass_indices\u001b[0m\u001b[1;33m)\u001b[0m\u001b[1;33m\u001b[0m\u001b[1;33m\u001b[0m\u001b[0m\n\u001b[0;32m      3\u001b[0m \u001b[0mlabels\u001b[0m \u001b[1;33m=\u001b[0m \u001b[0mdict\u001b[0m\u001b[1;33m(\u001b[0m\u001b[1;33m(\u001b[0m\u001b[0mv\u001b[0m\u001b[1;33m,\u001b[0m\u001b[0mk\u001b[0m\u001b[1;33m)\u001b[0m \u001b[1;32mfor\u001b[0m \u001b[0mk\u001b[0m\u001b[1;33m,\u001b[0m\u001b[0mv\u001b[0m \u001b[1;32min\u001b[0m \u001b[0mlabels\u001b[0m\u001b[1;33m.\u001b[0m\u001b[0mitems\u001b[0m\u001b[1;33m(\u001b[0m\u001b[1;33m)\u001b[0m\u001b[1;33m)\u001b[0m\u001b[1;33m\u001b[0m\u001b[1;33m\u001b[0m\u001b[0m\n\u001b[0;32m      4\u001b[0m \u001b[0mpredictions\u001b[0m \u001b[1;33m=\u001b[0m \u001b[1;33m[\u001b[0m\u001b[0mlabels\u001b[0m\u001b[1;33m[\u001b[0m\u001b[0mk\u001b[0m\u001b[1;33m]\u001b[0m \u001b[1;32mfor\u001b[0m \u001b[0mk\u001b[0m \u001b[1;32min\u001b[0m \u001b[0mpredicted_class_indices\u001b[0m\u001b[1;33m]\u001b[0m\u001b[1;33m\u001b[0m\u001b[1;33m\u001b[0m\u001b[0m\n\u001b[0;32m      5\u001b[0m \u001b[1;33m\u001b[0m\u001b[0m\n",
      "\u001b[1;31mNameError\u001b[0m: name 'pred' is not defined"
     ]
    }
   ],
   "source": [
    "predicted_class_indices=np.argmax(pred,axis=1)\n",
    "labels = (test_gen.class_indices)\n",
    "labels = dict((v,k) for k,v in labels.items())\n",
    "predictions = [labels[k] for k in predicted_class_indices]\n",
    "\n"
   ]
  },
  {
   "cell_type": "code",
   "execution_count": 4,
   "id": "66a15377",
   "metadata": {},
   "outputs": [
    {
     "ename": "NameError",
     "evalue": "name 'test_gen' is not defined",
     "output_type": "error",
     "traceback": [
      "\u001b[1;31m---------------------------------------------------------------------------\u001b[0m",
      "\u001b[1;31mNameError\u001b[0m                                 Traceback (most recent call last)",
      "\u001b[1;32m~\\AppData\\Local\\Temp\\ipykernel_19560\\3934613624.py\u001b[0m in \u001b[0;36m<module>\u001b[1;34m\u001b[0m\n\u001b[1;32m----> 1\u001b[1;33m \u001b[0mfilenames\u001b[0m\u001b[1;33m=\u001b[0m\u001b[0mtest_gen\u001b[0m\u001b[1;33m.\u001b[0m\u001b[0mfilenames\u001b[0m\u001b[1;33m\u001b[0m\u001b[1;33m\u001b[0m\u001b[0m\n\u001b[0m\u001b[0;32m      2\u001b[0m results=pd.DataFrame.from_dict({\"Filename\":filenames,\n\u001b[0;32m      3\u001b[0m                       \"Predictions\":predictions},orient='index')\n\u001b[0;32m      4\u001b[0m \u001b[0mresults\u001b[0m\u001b[1;33m.\u001b[0m\u001b[0mtranspose\u001b[0m\u001b[1;33m(\u001b[0m\u001b[1;33m)\u001b[0m\u001b[1;33m.\u001b[0m\u001b[0mto_csv\u001b[0m\u001b[1;33m(\u001b[0m\u001b[1;34m\"results.csv\"\u001b[0m\u001b[1;33m,\u001b[0m\u001b[0mindex\u001b[0m\u001b[1;33m=\u001b[0m\u001b[1;32mFalse\u001b[0m\u001b[1;33m)\u001b[0m\u001b[1;33m\u001b[0m\u001b[1;33m\u001b[0m\u001b[0m\n",
      "\u001b[1;31mNameError\u001b[0m: name 'test_gen' is not defined"
     ]
    }
   ],
   "source": [
    "filenames=test_gen.filenames\n",
    "results=pd.DataFrame.from_dict({\"Filename\":filenames,\n",
    "                      \"Predictions\":predictions},orient='index')\n",
    "results.transpose().to_csv(\"results.csv\",index=False)"
   ]
  },
  {
   "cell_type": "code",
   "execution_count": 5,
   "id": "98a9f1af",
   "metadata": {},
   "outputs": [
    {
     "ename": "NameError",
     "evalue": "name 'test_gen' is not defined",
     "output_type": "error",
     "traceback": [
      "\u001b[1;31m---------------------------------------------------------------------------\u001b[0m",
      "\u001b[1;31mNameError\u001b[0m                                 Traceback (most recent call last)",
      "\u001b[1;32m~\\AppData\\Local\\Temp\\ipykernel_19560\\812684405.py\u001b[0m in \u001b[0;36m<module>\u001b[1;34m\u001b[0m\n\u001b[1;32m----> 1\u001b[1;33m \u001b[0mprint\u001b[0m\u001b[1;33m(\u001b[0m\u001b[0mlen\u001b[0m\u001b[1;33m(\u001b[0m\u001b[0mtest_gen\u001b[0m\u001b[1;33m.\u001b[0m\u001b[0mfilenames\u001b[0m\u001b[1;33m)\u001b[0m\u001b[1;33m)\u001b[0m\u001b[1;33m\u001b[0m\u001b[1;33m\u001b[0m\u001b[0m\n\u001b[0m\u001b[0;32m      2\u001b[0m \u001b[0mprint\u001b[0m\u001b[1;33m(\u001b[0m\u001b[0mlen\u001b[0m\u001b[1;33m(\u001b[0m\u001b[0mpredicted_class_indices\u001b[0m\u001b[1;33m)\u001b[0m\u001b[1;33m)\u001b[0m\u001b[1;33m\u001b[0m\u001b[1;33m\u001b[0m\u001b[0m\n",
      "\u001b[1;31mNameError\u001b[0m: name 'test_gen' is not defined"
     ]
    }
   ],
   "source": [
    "print(len(test_gen.filenames))\n",
    "print(len(predicted_class_indices))"
   ]
  },
  {
   "cell_type": "code",
   "execution_count": 19,
   "id": "c6d5a977",
   "metadata": {},
   "outputs": [],
   "source": [
    "from tensorflow.keras.utils import load_img, img_to_array"
   ]
  },
  {
   "cell_type": "code",
   "execution_count": 20,
   "id": "81e9ea1b",
   "metadata": {},
   "outputs": [],
   "source": [
    "def load_image(filename):\n",
    "    try:\n",
    "        print(filename)\n",
    "        img = keras.utils.load_img(filename, target_size=(image_rows, image_cols))\n",
    "        \n",
    "        # convert to array\n",
    "        img = img_to_array(img)\n",
    "        # reshape into a single sample with 3 channels\n",
    "        img = img.reshape(1, image_rows, image_cols, 3)\n",
    "        # prepare pixel data\n",
    "        img = img.astype('float32')\n",
    "        img = img / 255.0\n",
    "        return img\n",
    "    except Exception as error:\n",
    "        print(f\"Exception = {error}\")"
   ]
  },
  {
   "cell_type": "code",
   "execution_count": 21,
   "id": "9843716e",
   "metadata": {},
   "outputs": [],
   "source": [
    "#labels = (test_gen.class_indices)\n",
    "labels = {   \n",
    "                 'civilian aircraft': 0,\n",
    "                 'civilian car': 1,\n",
    "                 'military aircraft': 2,\n",
    "                 'military helicopter': 3,\n",
    "                 'military tank': 4,\n",
    "                 'military truck': 5\n",
    "              }"
   ]
  },
  {
   "cell_type": "code",
   "execution_count": 22,
   "id": "a15149e6",
   "metadata": {},
   "outputs": [],
   "source": [
    "model = tf.keras.models.load_model('military.h5')"
   ]
  },
  {
   "cell_type": "code",
   "execution_count": 23,
   "id": "70cdd468",
   "metadata": {},
   "outputs": [],
   "source": [
    "labels_ua = {   \n",
    "             'civilian aircraft': 'цивільний літак',\n",
    "             'civilian car': 'автомобіль',\n",
    "             'military aircraft': 'військовий літак',\n",
    "             'military helicopter': 'військовий вертоліт',\n",
    "             'military tank': 'військовий танк',\n",
    "             'military truck': 'військова вантажівка'\n",
    "          }"
   ]
  },
  {
   "cell_type": "code",
   "execution_count": 30,
   "id": "2d1995c2",
   "metadata": {},
   "outputs": [],
   "source": [
    "def recognite(file):\n",
    "    img = load_image(file)\n",
    "    pred = model.predict(img,verbose = 0)\n",
    "    #print(pred.round(3))\n",
    "    predicted_class_indices=np.argmax(pred,axis=1)\n",
    "    print(np.max(pred))\n",
    "    print(predicted_class_indices[0])\n",
    "    labels = {   \n",
    "                 'civilian aircraft': 0,\n",
    "                 'civilian car': 1,\n",
    "                 'military aircraft': 2,\n",
    "                 'military helicopter': 3,\n",
    "                 'military tank': 4,\n",
    "                 'military truck': 5\n",
    "              }\n",
    "    labels = dict((v,k) for k,v in labels.items())\n",
    "\n",
    "    predictions = [labels_ua[labels[k]] for k in predicted_class_indices]\n",
    "\n",
    "   \n",
    "\n",
    "    #print(predictions[0])\n",
    "    #print('\\n')\n",
    "    for i in predictions:\n",
    "        print(i)\n",
    "    #print(predictions[0])\n",
    "    #return predictions[0]"
   ]
  },
  {
   "cell_type": "code",
   "execution_count": 31,
   "id": "8b72a592",
   "metadata": {},
   "outputs": [
    {
     "name": "stdout",
     "output_type": "stream",
     "text": [
      "./Images/000_1H95VB.width-800.jpg\n",
      "0.9999999\n",
      "2\n",
      "військовий літак\n",
      "./машин.jpg\n",
      "0.9940866\n",
      "5\n",
      "військова вантажівка\n",
      "./літак.jpg\n",
      "0.99996555\n",
      "0\n",
      "цивільний літак\n",
      "./гел.jpg\n",
      "1.0\n",
      "3\n",
      "військовий вертоліт\n",
      "./бтр.jpg\n",
      "0.99751246\n",
      "4\n",
      "військовий танк\n",
      "./літак військ.jpg\n",
      "0.9999999\n",
      "2\n",
      "військовий літак\n"
     ]
    }
   ],
   "source": [
    "recognite(\"./Images/000_1H95VB.width-800.jpg\")\n",
    "recognite(\"./машин.jpg\")\n",
    "recognite(\"./літак.jpg\")\n",
    "recognite(\"./гел.jpg\")\n",
    "recognite(\"./бтр.jpg\")\n",
    "recognite(\"./літак військ.jpg\")\n"
   ]
  },
  {
   "cell_type": "code",
   "execution_count": null,
   "id": "7335661c",
   "metadata": {},
   "outputs": [],
   "source": [
    "from os import walk\n",
    "import matplotlib.pyplot as plt \n",
    "import matplotlib.image as mpimg\n",
    "\n",
    "\n",
    "f = []\n",
    "\n",
    "for (dirpath, dirnames, filenames) in walk('./test_img'):    \n",
    "    for i in filenames:\n",
    "        #plt.imshow(mpimg.imread(dirpath+'/'+i))\n",
    "        fig = plt.figure()\n",
    "        ax = fig.add_subplot(1, 2, 1)\n",
    "        imgplot = plt.imshow(mpimg.imread(dirpath+'/'+i))\n",
    "        ax.set_title(recognite(dirpath+'/'+i))"
   ]
  },
  {
   "cell_type": "code",
   "execution_count": 53,
   "id": "95692c97",
   "metadata": {},
   "outputs": [
    {
     "name": "stdout",
     "output_type": "stream",
     "text": [
      "civilian aircraft\n",
      "civilian car\n",
      "military aircraft\n",
      "military helicopter\n",
      "military tank\n",
      "military truck\n"
     ]
    }
   ],
   "source": [
    "for i in labels:\n",
    "    print(i)"
   ]
  },
  {
   "cell_type": "code",
   "execution_count": 4,
   "id": "612f0fc5",
   "metadata": {},
   "outputs": [
    {
     "ename": "ModuleNotFoundError",
     "evalue": "No module named 'opencv'",
     "output_type": "error",
     "traceback": [
      "\u001b[1;31m---------------------------------------------------------------------------\u001b[0m",
      "\u001b[1;31mModuleNotFoundError\u001b[0m                       Traceback (most recent call last)",
      "\u001b[1;32m~\\AppData\\Local\\Temp\\ipykernel_12968\\3681009008.py\u001b[0m in \u001b[0;36m<module>\u001b[1;34m\u001b[0m\n\u001b[1;32m----> 1\u001b[1;33m \u001b[1;32mimport\u001b[0m \u001b[0mopencv\u001b[0m\u001b[1;33m\u001b[0m\u001b[1;33m\u001b[0m\u001b[0m\n\u001b[0m",
      "\u001b[1;31mModuleNotFoundError\u001b[0m: No module named 'opencv'"
     ]
    }
   ],
   "source": [
    "import opencv"
   ]
  },
  {
   "cell_type": "code",
   "execution_count": null,
   "id": "ef6d6e54",
   "metadata": {},
   "outputs": [],
   "source": []
  }
 ],
 "metadata": {
  "kernelspec": {
   "display_name": "Python 3 (ipykernel)",
   "language": "python",
   "name": "python3"
  },
  "language_info": {
   "codemirror_mode": {
    "name": "ipython",
    "version": 3
   },
   "file_extension": ".py",
   "mimetype": "text/x-python",
   "name": "python",
   "nbconvert_exporter": "python",
   "pygments_lexer": "ipython3",
   "version": "3.9.13"
  }
 },
 "nbformat": 4,
 "nbformat_minor": 5
}
